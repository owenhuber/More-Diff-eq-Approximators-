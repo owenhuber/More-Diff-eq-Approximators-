{
 "cells": [
  {
   "cell_type": "code",
   "execution_count": 37,
   "id": "aa2981e4",
   "metadata": {},
   "outputs": [],
   "source": [
    "import numpy as np\n",
    "import sys\n",
    "from numpy import linalg as LA\n",
    "import matplotlib.pyplot as plt\n",
    "from sympy import *"
   ]
  },
  {
   "cell_type": "code",
   "execution_count": 38,
   "id": "31ec9832",
   "metadata": {},
   "outputs": [],
   "source": [
    "def func(x, t):\n",
    "    return t/(1+x**2)\n",
    "\n"
   ]
  },
  {
   "cell_type": "code",
   "execution_count": 46,
   "id": "827a6bd1",
   "metadata": {},
   "outputs": [
    {
     "name": "stdout",
     "output_type": "stream",
     "text": [
      "The Heun's Method approximation at t=5 is x = 3.0490493773085356\n"
     ]
    }
   ],
   "source": [
    "## HEUNS METHOD\n",
    "\n",
    "def Huens_Approx(x_p, x0, h, t):\n",
    "    \n",
    "    current_x = x0\n",
    "    \n",
    "    tracking = [x0]\n",
    "    \n",
    "    for i in range(0, int(t/h)):\n",
    "        \n",
    "        temp = current_x + x_p(current_x, h*i)*h \n",
    "        current_x += (h/2)*(x_p(temp, h*(i+1))+ x_p(current_x, h*i))\n",
    "        tracking.append(current_x)\n",
    "        \n",
    "    return tracking\n",
    "\n",
    "print(f\"The Heun's Method approximation at t=5 is x = {Huens_Approx(func, 0, 0.1, 5)[-1]}\")"
   ]
  },
  {
   "cell_type": "code",
   "execution_count": 52,
   "id": "5e35e00b",
   "metadata": {},
   "outputs": [
    {
     "name": "stdout",
     "output_type": "stream",
     "text": [
      "The modified Euler’s method (2nd order) Method approximation at t=5 is x = 3.0492629630362535\n"
     ]
    }
   ],
   "source": [
    "## RK2 METHOD\n",
    "\n",
    "def modified_eulers(x_p, x0, h, t):\n",
    "    \n",
    "    current = x0\n",
    "    \n",
    "    tracking = [x0]\n",
    "    \n",
    "    for i in range(0, int(t/h)):\n",
    "        \n",
    "        F1 = h*x_p(current, h*i)\n",
    "        F2 = h*x_p(current + F1/2, h*i + h/2)\n",
    "        \n",
    "        current += F2 \n",
    "        tracking.append(current)\n",
    "        \n",
    "    return tracking\n",
    "\n",
    "print(f\"The modified Euler’s method (2nd order) Method approximation at t=5 is x = {modified_eulers(func, 0, 0.00001, 5)[-1]}\")"
   ]
  },
  {
   "cell_type": "code",
   "execution_count": 51,
   "id": "63d5d78a",
   "metadata": {},
   "outputs": [
    {
     "name": "stdout",
     "output_type": "stream",
     "text": [
      "The Adam's Baschforth method  approximation at t=5 is x = 3.049267818163315\n"
     ]
    }
   ],
   "source": [
    "## ADAM'S BASCFORTH METHOD\n",
    "\n",
    "def Adam_Bash(x_p, x0, h, t):\n",
    "    \n",
    "    x1 = x0 + h*x_p(x0, 0)\n",
    "    \n",
    "    tracking = [x0, x1]\n",
    "    \n",
    "    for i in range(1, int(t/h)):\n",
    "        current = tracking[-1] + h*(1.5*x_p(tracking[-1], h*(i)) - 0.5* x_p(tracking[-2], h*(i-1)))\n",
    "        tracking.append(current)\n",
    "        \n",
    "    return tracking\n",
    "\n",
    "print(f\"The Adam's Baschforth method  approximation at t=5 is x = {Adam_Bash(func, 0, 0.0001, 5)[-1]}\")"
   ]
  },
  {
   "cell_type": "code",
   "execution_count": 49,
   "id": "857a3063",
   "metadata": {},
   "outputs": [
    {
     "name": "stdout",
     "output_type": "stream",
     "text": [
      "The Adams-Moulton method  approximation at t=5 is x = 3.0490493773085356\n"
     ]
    }
   ],
   "source": [
    "\n",
    "\n",
    "## ADAM'S Molton METHOD\n",
    "\n",
    "def Adam_Molt(x_p, x0, h, t):\n",
    "    \n",
    "    tracking = [x0]\n",
    "    \n",
    "    for i in range(0, int(t/h)):\n",
    "        Temp = x_p(tracking[-1] + h*x_p(tracking[-1], h*i), h*(i + 1))\n",
    "        current = tracking[-1] + h*(x_p(tracking[-1], h*i) + Temp)/2\n",
    "        tracking.append(current)\n",
    "        \n",
    "    return tracking\n",
    "\n",
    "print(f\"The Adams-Moulton method  approximation at t=5 is x = {Adam_Molt(func, 0, 0.1, 5)[-1]}\")"
   ]
  },
  {
   "cell_type": "code",
   "execution_count": 43,
   "id": "f7a262a5",
   "metadata": {},
   "outputs": [
    {
     "name": "stdout",
     "output_type": "stream",
     "text": [
      "The Adapting Modified Euler's approximation at t=5 is x = 3.054862383105904\n",
      "The Standard Modified Euler's approximation at t=5 is x = 3.0492673318680974\n"
     ]
    }
   ],
   "source": [
    "\n",
    "## FIRST ORDER EULER\n",
    "\n",
    "def First_Order_Euler(x_p, x0, h, t):\n",
    "    \n",
    "    current_x = x0\n",
    "    \n",
    "    tracking = [x0]\n",
    "    \n",
    "    for i in range(0, int(t/h)):\n",
    "        \n",
    "        current_x += x_p(current_x, h*i)*h \n",
    "        tracking.append(current_x)\n",
    "        \n",
    "    return tracking\n",
    "\n",
    "## ADAPTIVE FIRST ORDER EULER\n",
    "\n",
    "def Adapt_MODIFIED_Euler(x_p, x0, h, t):\n",
    "    \n",
    "    current_x = x0\n",
    "    \n",
    "    tracking = [x0]\n",
    "    \n",
    "    i = 0\n",
    "    \n",
    "    c = 0.1\n",
    "    \n",
    "    while(i*h <= t):\n",
    "        \n",
    "        error_stat = abs(tracking[-1] - First_Order_Euler(x_p, x0, h, i*h)[-1])\n",
    "        \n",
    "        if (error_stat < c): \n",
    "            F1 = h*x_p(current_x, h*i)\n",
    "            F2 = 3*h*x_p(current_x + F1/2, h*i + h/2)\n",
    "            current_x += F2\n",
    "            i += 3\n",
    "        else :\n",
    "            F1 = h*x_p(current_x, h*i)\n",
    "            F2 = h*x_p(current_x + F1/2, h*i + h/2)\n",
    "            current_x += F2 \n",
    "            i += 1\n",
    "            \n",
    "        tracking.append(current_x)\n",
    "        \n",
    "    return tracking\n",
    "\n",
    "print(f\"The Adapting Modified Euler's approximation at t=5 is x = {Adapt_MODIFIED_Euler(func, 0, 0.01, 5)[-1]}\")\n",
    "print(f\"The Standard Modified Euler's approximation at t=5 is x = {modified_eulers(func, 0, 0.01, 5)[-1]}\")"
   ]
  },
  {
   "cell_type": "code",
   "execution_count": null,
   "id": "98f52da4",
   "metadata": {},
   "outputs": [],
   "source": []
  }
 ],
 "metadata": {
  "kernelspec": {
   "display_name": "Python 3",
   "language": "python",
   "name": "python3"
  },
  "language_info": {
   "codemirror_mode": {
    "name": "ipython",
    "version": 3
   },
   "file_extension": ".py",
   "mimetype": "text/x-python",
   "name": "python",
   "nbconvert_exporter": "python",
   "pygments_lexer": "ipython3",
   "version": "3.7.10"
  }
 },
 "nbformat": 4,
 "nbformat_minor": 5
}
